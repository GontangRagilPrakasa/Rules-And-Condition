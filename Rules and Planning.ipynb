{
 "cells": [
  {
   "cell_type": "markdown",
   "metadata": {},
   "source": [
    "<h1> Pelacakan , Ruang Keadaan dan Masalah </h1><br>\n",
    "<img src=\"image/AI.png\" width=\"400px\" /><br>\n",
    "Seperti yang diketahui pada sistem yang menggunakan kecerdasan buatan akan mencoba memberikan output\n",
    "berupa solusi suatu masalah berdasarkan kumpulan pengetahuan yang ada (pada gambar diatas)<br><br>\n",
    "Dari gambar tersebut, input yang diberikan pada sistem yang menggunakan kecerdasan buatan berupa <b>masalah</b>. Pada sistem harus dilengkapi dengan sekumpulan <b>pengetahuan yang ada pada basis pengetahuan</b>. Sistem harus memiliki <b>inference engine</b> agar sistem mampu mengambil kesimpulan berdasarkan fakta atau pengetahuan. Output yang diberikan berupa <b>solusi</b> masalah sebagai hasil dari inferensi\n"
   ]
  },
  {
   "cell_type": "markdown",
   "metadata": {},
   "source": [
    "<h1> Study Kasus </h1>\n",
    "Dalam satu kelas terdapat beberapa siswa yang menyukai kegiatan ekstrakulikuler :<br>\n",
    "1. Ellen hobi bermain tenis\n",
    "2. John hobi bermain football dan tenis\n",
    "3. Mary hobi bermain renang dan tenis\n",
    "4. Tom hobi bermain tenis dan basket\n",
    "5. Eric hobi bermain renang\n",
    "\n",
    "Silahkan klasifikasi berdasarkan hobi diatas menggunakan bahasa python <br>\n",
    "Kemudian tampilkan hasil nama dari setiap hobi"
   ]
  },
  {
   "cell_type": "code",
   "execution_count": 33,
   "metadata": {},
   "outputs": [
    {
     "name": "stdout",
     "output_type": "stream",
     "text": [
      "Tom :  ('tenis', 'basket')\n",
      "Bill :  ('tenis', 'basket')\n",
      "Mary :  ('renang', 'tenis')\n",
      "Ann :  ('renang', 'tenis')\n"
     ]
    }
   ],
   "source": [
    "#Cara Pertama\n",
    "#import berfungsi untuk multi file maksudnya yaitu kita dapat memanggil file lain di dalam\n",
    "#satu module yang berbeda.\n",
    "#dapat dicek di https://pypi.org/project/kanren/\n",
    "from kanren.facts import Relation,facts,fact\n",
    "from kanren.core import var,run\n",
    "from kanren.goals import membero\n",
    "\n",
    "suka = Relation()\n",
    "facts(suka,(\"ellen\",\"tenis\"),\n",
    "           (\"john\", \"football\"),\n",
    "           (\"john\", \"tenis\"),\n",
    "           (\"mary\", \"renang\"),\n",
    "           (\"tom\", \"tenis\"),\n",
    "           (\"tom\", \"basket\"),\n",
    "           (\"eric\", \"renang\"),\n",
    "           (\"mary\", \"tenis\"))\n",
    "x = var()\n",
    "tom_hobbies = run(0,x,suka(\"tom\",x))\n",
    "print(\"Tom : \",tom_hobbies)\n",
    "\n",
    "for hobby in tom_hobbies:\n",
    "    fact(suka,(\"bill\"),hobby)\n",
    "bill_hobbies = run(0,x,suka(\"bill\",x))\n",
    "print (\"Bill : \",bill_hobbies)\n",
    "\n",
    "mary_hobbies = run(0,x,suka(\"mary\",x))\n",
    "print (\"Mary : \",mary_hobbies)\n",
    "\n",
    "for hobby in mary_hobbies:\n",
    "    fact(suka,(\"ann\"),hobby)\n",
    "ann_hobbies = run(0,x,suka(\"ann\",x))\n",
    "print(\"Ann : \",ann_hobbies)"
   ]
  },
  {
   "cell_type": "code",
   "execution_count": 34,
   "metadata": {},
   "outputs": [
    {
     "name": "stdout",
     "output_type": "stream",
     "text": [
      "Tom :  ('tenis', 'basket')\n",
      "Bill :  ('tenis', 'basket')\n",
      "Mary :  ('renang', 'tenis')\n",
      "Ann :  ('renang', 'tenis')\n"
     ]
    }
   ],
   "source": [
    "#Cara Kedua\n",
    "from kanren.facts import Relation,facts,fact\n",
    "from kanren.core import var,run\n",
    "from kanren.goals import membero\n",
    "\n",
    "like = Relation()\n",
    "facts(like, (\"ellen\",\"tennis\"),\n",
    "            (\"john\",\"football\"),\n",
    "            (\"mary\",\"renang\"),\n",
    "            (\"tom\",\"tenis\"),\n",
    "            (\"eric\",\"renang\"))\n",
    "y = var()\n",
    "tom_hobbies = run (0,y,suka(\"tom\",y))\n",
    "print (\"Tom : \",tom_hobbies)\n",
    "for hobby in tom_hobbies:\n",
    "    fact(suka,(\"bill\"),hobby)\n",
    "bill_hobbies = run (0,y,suka(\"bill\",y))\n",
    "print(\"Bill : \",bill_hobbies)\n",
    "\n",
    "mary_hobbies = run(0,y,suka(\"mary\",y))\n",
    "print (\"Mary : \",mary_hobbies)\n",
    "for hobby in mary_hobbies:\n",
    "    fact(suka,(\"ann\"),hobby)\n",
    "ann_hobbies = run(0,y,suka(\"ann\",y))\n",
    "print(\"Ann : \",ann_hobbies)"
   ]
  },
  {
   "cell_type": "markdown",
   "metadata": {},
   "source": [
    "<img src=\"image/dongeng.jpg\" width=\"400px\" />"
   ]
  },
  {
   "cell_type": "code",
   "execution_count": 35,
   "metadata": {},
   "outputs": [
    {
     "name": "stdout",
     "output_type": "stream",
     "text": [
      "hewan berukuran besar ('keledai', 'kerbau')\n"
     ]
    }
   ],
   "source": [
    "from kanren.facts import Relation,facts,fact\n",
    "from kanren.core import var,run\n",
    "from kanren.goals import membero\n",
    "from kanren import vars\n",
    "\n",
    "ukuran = Relation()\n",
    "warna = Relation()\n",
    "gelap = Relation()\n",
    "\n",
    "facts(ukuran,(\"kerbau\",\"besar\"),\n",
    "             (\"keledai\",\"besar\"),\n",
    "             (\"kancil\",\"kecil\"))\n",
    "facts(warna,(\"kerbau\",\"biru\"),\n",
    "            (\"keledai\",\"kelabu\"),\n",
    "            (\"kancil\",\"cokelat\"))\n",
    "\n",
    "fact(gelap,\"biru\")\n",
    "fact(gelap,\"cokelat\")\n",
    "\n",
    "a = var()\n",
    "besar = run(0,a,ukuran(a,\"besar\"))\n",
    "print (\"hewan berukuran besar\",besar)"
   ]
  },
  {
   "cell_type": "code",
   "execution_count": null,
   "metadata": {
    "collapsed": true
   },
   "outputs": [],
   "source": []
  }
 ],
 "metadata": {
  "kernelspec": {
   "display_name": "Python 3",
   "language": "python",
   "name": "python3"
  },
  "language_info": {
   "codemirror_mode": {
    "name": "ipython",
    "version": 3
   },
   "file_extension": ".py",
   "mimetype": "text/x-python",
   "name": "python",
   "nbconvert_exporter": "python",
   "pygments_lexer": "ipython3",
   "version": "3.6.3"
  }
 },
 "nbformat": 4,
 "nbformat_minor": 2
}
